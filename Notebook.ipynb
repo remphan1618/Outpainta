# # Lightning Painter (In n' Out) - Custom SDXL Notebook
#
# This notebook sets up and runs a modified version of the Lightning Painter Hugging Face Space,
# allowing you to use custom SDXL models (including NSFW ones) for outpainting and inpainting
# on powerful GPU instances like those provided by Colab Pro/Pro+ or Vast.ai.
#
# **Instructions:**
# 1. Choose a powerful GPU runtime (e.g., A100, V100, RTX 3090/4090) with sufficient VRAM for SDXL.
# 2. **Crucially**, make sure the files `app.py`, `controlnet_union.py`, `pipeline_fill_sd_xl.py`, and `requirements.txt`
#    (containing the code I provided in the previous responses) are all saved as separate files in your current working directory in the notebook environment.
#    You may need to upload them manually to your Colab/Vast.ai file browser or use `git clone` and then replace the files.
# 3. Run the cells sequentially by clicking the play button next to each cell or using Shift+Enter.
# 4. **Edit the `app.py` file separately** to modify the `MODELS` dictionary and include your desired NSFW SDXL model IDs before running this notebook.
# 5. The final code cell will launch the Gradio interface. Look for the public URL provided in the output (usually something like `https://xxxxxxxx.gradio.app`). Click this link to access the web interface.

# @title 1. Setup and Dependencies
# @markdown This cell installs the necessary libraries listed in `requirements.txt`.
# @markdown **Ensure `requirements.txt` is in your current directory.**

print("--- Installing Dependencies ---")
try:
    # Install dependencies from requirements.txt
    !pip install -r requirements.txt

    # Install additional recommended libraries (uncomment if needed if you have enough VRAM)
    # print("Attempting to install xformers for memory efficiency...")
    # !pip install xformers
    # print("Attempting to install flash-attention for speedup...")
    # !pip install flash-attention

    print("--- Dependency installation complete. ---")

except Exception as e:
    print(f"Error during dependency installation: {e}")
    print("Please check your requirements.txt and environment.")


# @title 2. Run the Lightning Painter App
# @markdown This cell executes the `app.py` script to launch the Gradio interface.
# @markdown **Ensure `app.py`, `controlnet_union.py`, and `pipeline_fill_sd_xl.py` are in your current directory.**

print("--- Running the app.py script ---")
try:
    # Use a shell command to run the app.py file
    # This assumes app.py is in the current directory
    !python app.py

except Exception as e:
    print(f"Error running app.py: {e}")
    print("Please check the app.py file for errors and ensure all necessary files are in the correct directory.")

# The Gradio public URL will be printed in the output of the cell if demo.launch(share=True) is successful.