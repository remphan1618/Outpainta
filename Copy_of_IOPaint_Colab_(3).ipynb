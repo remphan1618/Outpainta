{
  "cells": [
    {
      "cell_type": "code",
      "source": [
        "# @title 0. Set Working Directory\n",
        "# @markdown This cell sets the working directory to where the notebook assumes\n",
        "# @markdown   the required files (requirements.txt, app.py, etc.) are located.\n",
        "# @markdown   It prints the current directory first, then changes into it.\n",
        "# @markdown   **IMPORTANT:** Make sure this directory actually contains your files!\n",
        "import os\n",
        "\n",
        "# Get the current working directory provided by the notebook environment\n",
        "notebook_dir = os.getcwd()\n",
        "print(f\"Initial Working Directory: {notebook_dir}\")\n",
        "\n",
        "# Change directory to ensure subsequent commands use this as the base\n",
        "# This assumes the notebook server was started in the correct directory,\n",
        "# or that this is the directory containing your files.\n",
        "%cd {notebook_dir}\n",
        "print(f\"Current Working Directory set to: {os.getcwd()}\")\n",
        "\n",
        "# Optional: List files to verify\n",
        "print(\"\\nFiles in current directory:\")\n",
        "!ls -lh"
      ],
      "metadata": {
        "id": "v2-wjrkveKLc",
        "outputId": "09150656-06d5-4a87-cbbc-61be01147165",
        "colab": {
          "base_uri": "https://localhost:8080/"
        }
      },
      "execution_count": null,
      "outputs": [
        {
          "output_type": "stream",
          "name": "stdout",
          "text": [
            "Initial Working Directory: /content\n",
            "/content\n",
            "Current Working Directory set to: /content\n",
            "\n",
            "Files in current directory:\n",
            "total 8.0K\n",
            "drwxr-xr-x 2 root root 4.0K Apr 19 05:12 33\n",
            "drwxr-xr-x 1 root root 4.0K Apr 17 13:36 sample_data\n"
          ]
        }
      ]
    },
    {
      "cell_type": "code",
      "source": [
        "# @title 1. Setup and Dependencies\n",
        "# @markdown This cell installs the necessary libraries listed in `requirements.txt`.\n",
        "# @markdown **Ensure `requirements.txt` is in your current directory.**\n",
        "\n",
        "print(\"--- Installing Dependencies ---\")\n",
        "try:\n",
        "    # Install dependencies from requirements.txt\n",
        "    # This should now work relative to the directory set in Cell 0\n",
        "    !pip install -r requirements.txt\n",
        "\n",
        "    # Install additional recommended libraries (uncomment if needed if you have enough VRAM)\n",
        "    # print(\"Attempting to install xformers for memory efficiency...\")\n",
        "    # !pip install xformers\n",
        "    # print(\"Attempting to install flash-attention for speedup...\")\n",
        "    # !pip install flash-attention\n",
        "\n",
        "    print(\"--- Dependency installation complete. ---\")\n",
        "\n",
        "except Exception as e:\n",
        "    print(f\"Error during dependency installation: {e}\")\n",
        "    print(\"Please check your requirements.txt and environment.\")"
      ],
      "metadata": {
        "id": "pY71Kni3eT86",
        "outputId": "3f120c04-a813-4cdb-f445-720605047bad",
        "colab": {
          "base_uri": "https://localhost:8080/"
        }
      },
      "execution_count": null,
      "outputs": [
        {
          "output_type": "stream",
          "name": "stdout",
          "text": [
            "--- Installing Dependencies ---\n",
            "\u001b[31mERROR: Could not open requirements file: [Errno 2] No such file or directory: 'requirements.txt'\u001b[0m\u001b[31m\n",
            "\u001b[0m--- Dependency installation complete. ---\n"
          ]
        }
      ]
    },
    {
      "cell_type": "code",
      "source": [
        "# @title 2. Run the Lightning Painter App\n",
        "# @markdown This cell executes the `app.py` script to launch the Gradio interface.\n",
        "# @markdown **Ensure `app.py`, `controlnet_union.py`, and `pipeline_fill_sd_xl.py` are in your current directory.**\n",
        "\n",
        "print(\"--- Running the app.py script ---\")\n",
        "try:\n",
        "    # Use a shell command to run the app.py file\n",
        "    # This should now work relative to the directory set in Cell 0\n",
        "    !python app.py\n",
        "\n",
        "except Exception as e:\n",
        "    print(f\"Error running app.py: {e}\")\n",
        "    print(\"Please check the app.py file for errors and ensure all necessary files are in the correct directory.\")\n",
        "\n",
        "# The Gradio public URL will be printed in the output of the cell if demo.launch(share=True) is successful."
      ],
      "metadata": {
        "id": "O6WjUTjoeZZ_"
      },
      "execution_count": null,
      "outputs": []
    }
  ],
  "metadata": {
    "colab": {
      "provenance": [],
      "gpuType": "T4"
    },
    "kernelspec": {
      "display_name": "Python 3",
      "name": "python3"
    },
    "language_info": {
      "name": "python"
    },
    "accelerator": "GPU"
  },
  "nbformat": 4,
  "nbformat_minor": 0
}